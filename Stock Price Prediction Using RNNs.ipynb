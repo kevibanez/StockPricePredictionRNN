{
 "cells": [
  {
   "cell_type": "markdown",
   "metadata": {
    "id": "xpAuMVCwfWs8"
   },
   "source": [
    "# Recurrent Neural Network"
   ]
  },
  {
   "cell_type": "markdown",
   "metadata": {
    "id": "nxJfRe4bfYVA"
   },
   "source": [
    "## Part 1 - Data Preprocessing"
   ]
  },
  {
   "cell_type": "markdown",
   "metadata": {
    "id": "ir9zwETrfbrp"
   },
   "source": [
    "### Importing the libraries"
   ]
  },
  {
   "cell_type": "code",
   "execution_count": 7,
   "metadata": {
    "id": "ZT1f24vHffuf"
   },
   "outputs": [],
   "source": [
    "import numpy as np\n",
    "import pandas as pd\n",
    "import matplotlib.pyplot as plt\n",
    "from sklearn.preprocessing import MinMaxScaler\n"
   ]
  },
  {
   "cell_type": "markdown",
   "metadata": {
    "id": "nQ47JAxrgmaL"
   },
   "source": [
    "### Importing the training set"
   ]
  },
  {
   "cell_type": "code",
   "execution_count": 14,
   "metadata": {},
   "outputs": [],
   "source": [
    "# Updated file paths\n",
    "train_data_path = '/Users/ebaniez/Downloads/Google_Stock_Price_Train.csv'\n",
    "test_data_path = '/Users/ebaniez/Downloads/Google_Stock_Price_Test-1.csv'\n",
    "\n",
    "# Load the datasets\n",
    "train_df = pd.read_csv(train_data_path)\n",
    "test_df = pd.read_csv(test_data_path)\n",
    "\n"
   ]
  },
  {
   "cell_type": "code",
   "execution_count": 15,
   "metadata": {},
   "outputs": [
    {
     "name": "stdout",
     "output_type": "stream",
     "text": [
      "Training Data Head:\n",
      "       Date    Open    High     Low   Close      Volume\n",
      "0  1/3/2012  325.25  332.83  324.97  663.59   7,380,500\n",
      "1  1/4/2012  331.27  333.87  329.08  666.45   5,749,400\n",
      "2  1/5/2012  329.83  330.75  326.89  657.21   6,590,300\n",
      "3  1/6/2012  328.34  328.77  323.68  648.24   5,405,900\n",
      "4  1/9/2012  322.04  322.29  309.46  620.76  11,688,800\n",
      "\n",
      "Test Data Head:\n",
      "       Date    Open    High     Low   Close     Volume\n",
      "0  1/3/2017  778.81  789.63  775.80  786.14  1,657,300\n",
      "1  1/4/2017  788.36  791.34  783.16  786.90  1,073,000\n",
      "2  1/5/2017  786.08  794.48  785.02  794.02  1,335,200\n",
      "3  1/6/2017  795.26  807.90  792.20  806.15  1,640,200\n",
      "4  1/9/2017  806.40  809.97  802.83  806.65  1,272,400\n"
     ]
    }
   ],
   "source": [
    "# Display the first few rows of the training data\n",
    "print(\"Training Data Head:\")\n",
    "print(train_df.head())\n",
    "\n",
    "# Display the first few rows of the test data\n",
    "print(\"\\nTest Data Head:\")\n",
    "print(test_df.head())\n"
   ]
  },
  {
   "cell_type": "markdown",
   "metadata": {
    "id": "HT8_2UJegtG5"
   },
   "source": [
    "### Feature Scaling"
   ]
  },
  {
   "cell_type": "code",
   "execution_count": 16,
   "metadata": {
    "id": "OTrF2kR7gx9x"
   },
   "outputs": [],
   "source": [
    "from sklearn.preprocessing import MinMaxScaler\n",
    "\n",
    "# Feature Scaling\n",
    "scaler = MinMaxScaler(feature_range=(0, 1))\n",
    "train_scaled = scaler.fit_transform(train_df[['Open']])\n"
   ]
  },
  {
   "cell_type": "markdown",
   "metadata": {
    "id": "JyYgYocqhNUg"
   },
   "source": [
    "### Creating a data structure with 60 timesteps and 1 output"
   ]
  },
  {
   "cell_type": "code",
   "execution_count": 17,
   "metadata": {
    "id": "iofU21B0i6ST"
   },
   "outputs": [],
   "source": [
    "X_train = []\n",
    "y_train = []\n",
    "for i in range(60, len(train_scaled)):\n",
    "    X_train.append(train_scaled[i-60:i, 0])\n",
    "    y_train.append(train_scaled[i, 0])\n",
    "X_train, y_train = np.array(X_train), np.array(y_train)\n",
    "\n",
    "# Reshaping for LSTM (Adding 3rd dimension)\n",
    "X_train = np.reshape(X_train, (X_train.shape[0], X_train.shape[1], 1))\n"
   ]
  },
  {
   "cell_type": "markdown",
   "metadata": {
    "id": "D8yaN7Zvi95l"
   },
   "source": [
    "### Reshaping"
   ]
  },
  {
   "cell_type": "code",
   "execution_count": 18,
   "metadata": {
    "id": "FOXqJHmNjBkz"
   },
   "outputs": [],
   "source": [
    "# Reshaping X_train for efficient modelling\n",
    "X_train = np.reshape(X_train, (X_train.shape[0], X_train.shape[1], 1))\n"
   ]
  },
  {
   "cell_type": "markdown",
   "metadata": {
    "id": "ZRRSOJeVjEWV"
   },
   "source": [
    "## Part 2 - Building and Training the RNN"
   ]
  },
  {
   "cell_type": "markdown",
   "metadata": {
    "id": "k4XV88JMjHXG"
   },
   "source": [
    "### Importing the Keras libraries and packages"
   ]
  },
  {
   "cell_type": "code",
   "execution_count": 19,
   "metadata": {
    "executionInfo": {
     "elapsed": 7,
     "status": "ok",
     "timestamp": 1676414787940,
     "user": {
      "displayName": "jayesh soni",
      "userId": "15631968598906199091"
     },
     "user_tz": 300
    },
    "id": "9JRnqsxEjKsD"
   },
   "outputs": [],
   "source": [
    "from tensorflow.keras.models import Sequential\n",
    "from tensorflow.keras.layers import LSTM, Dropout, Dense\n"
   ]
  },
  {
   "cell_type": "markdown",
   "metadata": {
    "id": "FEIE-1s9jNzC"
   },
   "source": [
    "### Initialising the RNN"
   ]
  },
  {
   "cell_type": "code",
   "execution_count": 20,
   "metadata": {
    "id": "1338dJ0UjRKH"
   },
   "outputs": [],
   "source": [
    "regressor = Sequential()\n"
   ]
  },
  {
   "cell_type": "markdown",
   "metadata": {
    "id": "62eg1OPGjT8z"
   },
   "source": [
    "### Adding the first LSTM layer and some Dropout regularisation"
   ]
  },
  {
   "cell_type": "code",
   "execution_count": 21,
   "metadata": {
    "id": "2hIinyXUjbVU"
   },
   "outputs": [],
   "source": [
    "regressor.add(LSTM(units=50, return_sequences=True, input_shape=(X_train.shape[1], 1)))\n",
    "regressor.add(Dropout(0.2))\n"
   ]
  },
  {
   "cell_type": "markdown",
   "metadata": {
    "id": "3XBIYLyOjlMx"
   },
   "source": [
    "### Adding a second LSTM layer and some Dropout regularisation"
   ]
  },
  {
   "cell_type": "code",
   "execution_count": 22,
   "metadata": {
    "id": "UG7nrVaSjuZ2"
   },
   "outputs": [],
   "source": [
    "regressor.add(LSTM(units=50, return_sequences=True))\n",
    "regressor.add(Dropout(0.2))\n"
   ]
  },
  {
   "cell_type": "markdown",
   "metadata": {
    "id": "Ey3fHVnGj1cu"
   },
   "source": [
    "### Adding a third LSTM layer and some Dropout regularisation"
   ]
  },
  {
   "cell_type": "code",
   "execution_count": 23,
   "metadata": {
    "id": "PuNi6PgFj7jO"
   },
   "outputs": [],
   "source": [
    "regressor.add(LSTM(units=50, return_sequences=True))\n",
    "regressor.add(Dropout(0.2))\n"
   ]
  },
  {
   "cell_type": "markdown",
   "metadata": {
    "id": "SYTrtfTmj933"
   },
   "source": [
    "### Adding a fourth LSTM layer and some Dropout regularisation"
   ]
  },
  {
   "cell_type": "code",
   "execution_count": 24,
   "metadata": {
    "id": "Jp4Ty8fRkBYV"
   },
   "outputs": [],
   "source": [
    "regressor.add(LSTM(units=50))\n",
    "regressor.add(Dropout(0.2))\n"
   ]
  },
  {
   "cell_type": "markdown",
   "metadata": {
    "id": "9ABI6rOIkHhk"
   },
   "source": [
    "### Adding the output layer"
   ]
  },
  {
   "cell_type": "code",
   "execution_count": 25,
   "metadata": {
    "id": "aM6R1z4WkME8"
   },
   "outputs": [],
   "source": [
    "regressor.add(Dense(units=1))\n"
   ]
  },
  {
   "cell_type": "markdown",
   "metadata": {
    "id": "zLx4K7uUkPSh"
   },
   "source": [
    "### Compiling the RNN"
   ]
  },
  {
   "cell_type": "code",
   "execution_count": 26,
   "metadata": {
    "id": "XTrhVN-tkbko"
   },
   "outputs": [],
   "source": [
    "regressor.compile(optimizer='adam', loss='mean_squared_error')\n"
   ]
  },
  {
   "cell_type": "markdown",
   "metadata": {
    "id": "-mPhwKGkkebi"
   },
   "source": [
    "### Fitting the RNN to the Training set"
   ]
  },
  {
   "cell_type": "code",
   "execution_count": 27,
   "metadata": {
    "executionInfo": {
     "elapsed": 175,
     "status": "ok",
     "timestamp": 1676414788110,
     "user": {
      "displayName": "jayesh soni",
      "userId": "15631968598906199091"
     },
     "user_tz": 300
    },
    "id": "I06Nkrz5kkb-"
   },
   "outputs": [
    {
     "name": "stdout",
     "output_type": "stream",
     "text": [
      "Epoch 1/100\n",
      "38/38 [==============================] - 3s 38ms/step - loss: 0.0423\n",
      "Epoch 2/100\n",
      "38/38 [==============================] - 1s 38ms/step - loss: 0.0058\n",
      "Epoch 3/100\n",
      "38/38 [==============================] - 1s 39ms/step - loss: 0.0050\n",
      "Epoch 4/100\n",
      "38/38 [==============================] - 1s 39ms/step - loss: 0.0049\n",
      "Epoch 5/100\n",
      "38/38 [==============================] - 2s 40ms/step - loss: 0.0048\n",
      "Epoch 6/100\n",
      "38/38 [==============================] - 2s 40ms/step - loss: 0.0051\n",
      "Epoch 7/100\n",
      "38/38 [==============================] - 2s 40ms/step - loss: 0.0050\n",
      "Epoch 8/100\n",
      "38/38 [==============================] - 2s 40ms/step - loss: 0.0042\n",
      "Epoch 9/100\n",
      "38/38 [==============================] - 2s 40ms/step - loss: 0.0039\n",
      "Epoch 10/100\n",
      "38/38 [==============================] - 1s 39ms/step - loss: 0.0042\n",
      "Epoch 11/100\n",
      "38/38 [==============================] - 2s 40ms/step - loss: 0.0040\n",
      "Epoch 12/100\n",
      "38/38 [==============================] - 2s 40ms/step - loss: 0.0039\n",
      "Epoch 13/100\n",
      "38/38 [==============================] - 2s 40ms/step - loss: 0.0040\n",
      "Epoch 14/100\n",
      "38/38 [==============================] - 2s 40ms/step - loss: 0.0045\n",
      "Epoch 15/100\n",
      "38/38 [==============================] - 2s 40ms/step - loss: 0.0036\n",
      "Epoch 16/100\n",
      "38/38 [==============================] - 2s 40ms/step - loss: 0.0041\n",
      "Epoch 17/100\n",
      "38/38 [==============================] - 2s 40ms/step - loss: 0.0037\n",
      "Epoch 18/100\n",
      "38/38 [==============================] - 2s 41ms/step - loss: 0.0036\n",
      "Epoch 19/100\n",
      "38/38 [==============================] - 2s 40ms/step - loss: 0.0039\n",
      "Epoch 20/100\n",
      "38/38 [==============================] - 1s 39ms/step - loss: 0.0035\n",
      "Epoch 21/100\n",
      "38/38 [==============================] - 1s 39ms/step - loss: 0.0033\n",
      "Epoch 22/100\n",
      "38/38 [==============================] - 1s 39ms/step - loss: 0.0033\n",
      "Epoch 23/100\n",
      "38/38 [==============================] - 2s 40ms/step - loss: 0.0034\n",
      "Epoch 24/100\n",
      "38/38 [==============================] - 2s 40ms/step - loss: 0.0033\n",
      "Epoch 25/100\n",
      "38/38 [==============================] - 2s 41ms/step - loss: 0.0034\n",
      "Epoch 26/100\n",
      "38/38 [==============================] - 2s 41ms/step - loss: 0.0027\n",
      "Epoch 27/100\n",
      "38/38 [==============================] - 2s 42ms/step - loss: 0.0035\n",
      "Epoch 28/100\n",
      "38/38 [==============================] - 2s 41ms/step - loss: 0.0029\n",
      "Epoch 29/100\n",
      "38/38 [==============================] - 2s 40ms/step - loss: 0.0029\n",
      "Epoch 30/100\n",
      "38/38 [==============================] - 2s 40ms/step - loss: 0.0029\n",
      "Epoch 31/100\n",
      "38/38 [==============================] - 2s 40ms/step - loss: 0.0029\n",
      "Epoch 32/100\n",
      "38/38 [==============================] - 2s 41ms/step - loss: 0.0027\n",
      "Epoch 33/100\n",
      "38/38 [==============================] - 2s 41ms/step - loss: 0.0026\n",
      "Epoch 34/100\n",
      "38/38 [==============================] - 2s 41ms/step - loss: 0.0029\n",
      "Epoch 35/100\n",
      "38/38 [==============================] - 2s 41ms/step - loss: 0.0027\n",
      "Epoch 36/100\n",
      "38/38 [==============================] - 2s 41ms/step - loss: 0.0026\n",
      "Epoch 37/100\n",
      "38/38 [==============================] - 2s 42ms/step - loss: 0.0029\n",
      "Epoch 38/100\n",
      "38/38 [==============================] - 2s 41ms/step - loss: 0.0026\n",
      "Epoch 39/100\n",
      "38/38 [==============================] - 2s 41ms/step - loss: 0.0029\n",
      "Epoch 40/100\n",
      "38/38 [==============================] - 2s 41ms/step - loss: 0.0026\n",
      "Epoch 41/100\n",
      "38/38 [==============================] - 2s 40ms/step - loss: 0.0029\n",
      "Epoch 42/100\n",
      "38/38 [==============================] - 2s 41ms/step - loss: 0.0025\n",
      "Epoch 43/100\n",
      "38/38 [==============================] - 2s 40ms/step - loss: 0.0024\n",
      "Epoch 44/100\n",
      "38/38 [==============================] - 2s 40ms/step - loss: 0.0024\n",
      "Epoch 45/100\n",
      "38/38 [==============================] - 2s 40ms/step - loss: 0.0027\n",
      "Epoch 46/100\n",
      "38/38 [==============================] - 2s 40ms/step - loss: 0.0024\n",
      "Epoch 47/100\n",
      "38/38 [==============================] - 2s 40ms/step - loss: 0.0022\n",
      "Epoch 48/100\n",
      "38/38 [==============================] - 2s 40ms/step - loss: 0.0024\n",
      "Epoch 49/100\n",
      "38/38 [==============================] - 2s 41ms/step - loss: 0.0025\n",
      "Epoch 50/100\n",
      "38/38 [==============================] - 2s 40ms/step - loss: 0.0024\n",
      "Epoch 51/100\n",
      "38/38 [==============================] - 2s 40ms/step - loss: 0.0023\n",
      "Epoch 52/100\n",
      "38/38 [==============================] - 2s 40ms/step - loss: 0.0024\n",
      "Epoch 53/100\n",
      "38/38 [==============================] - 2s 41ms/step - loss: 0.0023\n",
      "Epoch 54/100\n",
      "38/38 [==============================] - 2s 40ms/step - loss: 0.0023\n",
      "Epoch 55/100\n",
      "38/38 [==============================] - 2s 40ms/step - loss: 0.0023\n",
      "Epoch 56/100\n",
      "38/38 [==============================] - 2s 40ms/step - loss: 0.0023\n",
      "Epoch 57/100\n",
      "38/38 [==============================] - 2s 40ms/step - loss: 0.0022\n",
      "Epoch 58/100\n",
      "38/38 [==============================] - 2s 40ms/step - loss: 0.0020\n",
      "Epoch 59/100\n",
      "38/38 [==============================] - 2s 40ms/step - loss: 0.0026\n",
      "Epoch 60/100\n",
      "38/38 [==============================] - 2s 41ms/step - loss: 0.0020\n",
      "Epoch 61/100\n",
      "38/38 [==============================] - 2s 42ms/step - loss: 0.0024\n",
      "Epoch 62/100\n",
      "38/38 [==============================] - 2s 43ms/step - loss: 0.0020\n",
      "Epoch 63/100\n",
      "38/38 [==============================] - 2s 43ms/step - loss: 0.0019\n",
      "Epoch 64/100\n",
      "38/38 [==============================] - 2s 42ms/step - loss: 0.0019\n",
      "Epoch 65/100\n",
      "38/38 [==============================] - 2s 42ms/step - loss: 0.0020\n",
      "Epoch 66/100\n",
      "38/38 [==============================] - 2s 41ms/step - loss: 0.0018\n",
      "Epoch 67/100\n",
      "38/38 [==============================] - 2s 40ms/step - loss: 0.0019\n",
      "Epoch 68/100\n",
      "38/38 [==============================] - 2s 40ms/step - loss: 0.0018\n",
      "Epoch 69/100\n",
      "38/38 [==============================] - 2s 40ms/step - loss: 0.0019\n",
      "Epoch 70/100\n",
      "38/38 [==============================] - 2s 40ms/step - loss: 0.0020\n",
      "Epoch 71/100\n",
      "38/38 [==============================] - 2s 40ms/step - loss: 0.0021\n",
      "Epoch 72/100\n",
      "38/38 [==============================] - 2s 40ms/step - loss: 0.0020\n",
      "Epoch 73/100\n",
      "38/38 [==============================] - 2s 40ms/step - loss: 0.0018\n",
      "Epoch 74/100\n",
      "38/38 [==============================] - 2s 41ms/step - loss: 0.0019\n",
      "Epoch 75/100\n",
      "38/38 [==============================] - 2s 40ms/step - loss: 0.0018\n",
      "Epoch 76/100\n",
      "38/38 [==============================] - 2s 40ms/step - loss: 0.0016\n",
      "Epoch 77/100\n",
      "38/38 [==============================] - 2s 40ms/step - loss: 0.0018\n",
      "Epoch 78/100\n",
      "38/38 [==============================] - 2s 40ms/step - loss: 0.0019\n",
      "Epoch 79/100\n",
      "38/38 [==============================] - 2s 40ms/step - loss: 0.0017\n",
      "Epoch 80/100\n",
      "38/38 [==============================] - 2s 40ms/step - loss: 0.0017\n",
      "Epoch 81/100\n",
      "38/38 [==============================] - 2s 40ms/step - loss: 0.0017\n",
      "Epoch 82/100\n",
      "38/38 [==============================] - 2s 40ms/step - loss: 0.0016\n",
      "Epoch 83/100\n",
      "38/38 [==============================] - 2s 40ms/step - loss: 0.0017\n",
      "Epoch 84/100\n",
      "38/38 [==============================] - 2s 40ms/step - loss: 0.0017\n",
      "Epoch 85/100\n",
      "38/38 [==============================] - 2s 40ms/step - loss: 0.0019\n",
      "Epoch 86/100\n",
      "38/38 [==============================] - 2s 40ms/step - loss: 0.0016\n",
      "Epoch 87/100\n",
      "38/38 [==============================] - 2s 40ms/step - loss: 0.0015\n",
      "Epoch 88/100\n",
      "38/38 [==============================] - 2s 40ms/step - loss: 0.0017\n",
      "Epoch 89/100\n",
      "38/38 [==============================] - 2s 40ms/step - loss: 0.0016\n",
      "Epoch 90/100\n",
      "38/38 [==============================] - 2s 40ms/step - loss: 0.0014\n",
      "Epoch 91/100\n",
      "38/38 [==============================] - 2s 41ms/step - loss: 0.0017\n",
      "Epoch 92/100\n",
      "38/38 [==============================] - 2s 42ms/step - loss: 0.0015\n",
      "Epoch 93/100\n",
      "38/38 [==============================] - 2s 43ms/step - loss: 0.0017\n",
      "Epoch 94/100\n",
      "38/38 [==============================] - 2s 43ms/step - loss: 0.0015\n",
      "Epoch 95/100\n",
      "38/38 [==============================] - 2s 43ms/step - loss: 0.0015\n",
      "Epoch 96/100\n",
      "38/38 [==============================] - 2s 42ms/step - loss: 0.0014\n",
      "Epoch 97/100\n",
      "38/38 [==============================] - 2s 43ms/step - loss: 0.0015\n",
      "Epoch 98/100\n",
      "38/38 [==============================] - 2s 42ms/step - loss: 0.0013\n",
      "Epoch 99/100\n",
      "38/38 [==============================] - 2s 43ms/step - loss: 0.0015\n",
      "Epoch 100/100\n",
      "38/38 [==============================] - 2s 43ms/step - loss: 0.0014\n"
     ]
    },
    {
     "data": {
      "text/plain": [
       "<keras.src.callbacks.History at 0x17bf6f850>"
      ]
     },
     "execution_count": 27,
     "metadata": {},
     "output_type": "execute_result"
    }
   ],
   "source": [
    "regressor.fit(X_train, y_train, epochs=100, batch_size=32)\n"
   ]
  },
  {
   "cell_type": "markdown",
   "metadata": {
    "id": "4hRau_lIkrE8"
   },
   "source": [
    "## Part 3 - Making the predictions and visualising the results"
   ]
  },
  {
   "cell_type": "markdown",
   "metadata": {
    "id": "SgJO6qEDksxD"
   },
   "source": [
    "### Getting the real stock price of 2017"
   ]
  },
  {
   "cell_type": "code",
   "execution_count": 28,
   "metadata": {
    "id": "FmBT2zqukxTz"
   },
   "outputs": [],
   "source": [
    "# Load the test dataset\n",
    "test_data_path = '/Users/ebaniez/Downloads/Google_Stock_Price_Test-1.csv'\n",
    "test_df = pd.read_csv(test_data_path)\n",
    "real_stock_price = test_df.iloc[:, 1:2].values  # Assuming 'Open' prices are in the second column\n"
   ]
  },
  {
   "cell_type": "markdown",
   "metadata": {
    "id": "GrvrLblxkz42"
   },
   "source": [
    "### Getting the predicted stock price of 2017"
   ]
  },
  {
   "cell_type": "code",
   "execution_count": 31,
   "metadata": {
    "id": "emikTvUpk3Ck"
   },
   "outputs": [
    {
     "name": "stdout",
     "output_type": "stream",
     "text": [
      "Not enough input data to create sequences. Check the 'inputs' array.\n"
     ]
    }
   ],
   "source": [
    "# Assuming 'inputs' is correctly scaled and has the shape (n, 1) where n is the number of days\n",
    "if len(inputs) > 60:  # Ensure there are more than 60 days to create at least one sequence\n",
    "    X_test = []\n",
    "    for i in range(60, len(inputs)):  # Start from day 60 to the last day\n",
    "        X_test.append(inputs[i-60:i, 0])  # Append the previous 60 days to X_test\n",
    "    X_test = np.array(X_test)\n",
    "\n",
    "    # Now reshape X_test for the RNN\n",
    "    if X_test.size > 0:\n",
    "        X_test = np.reshape(X_test, (X_test.shape[0], X_test.shape[1], 1))\n",
    "    else:\n",
    "        print(\"X_test is empty. Check the inputs array and the loop configuration.\")\n",
    "else:\n",
    "    print(\"Not enough input data to create sequences. Check the 'inputs' array.\")\n"
   ]
  },
  {
   "cell_type": "code",
   "execution_count": 32,
   "metadata": {},
   "outputs": [
    {
     "name": "stderr",
     "output_type": "stream",
     "text": [
      "/Users/ebaniez/anaconda3/lib/python3.11/site-packages/sklearn/base.py:464: UserWarning: X does not have valid feature names, but MinMaxScaler was fitted with feature names\n",
      "  warnings.warn(\n"
     ]
    }
   ],
   "source": [
    "# Assuming you have 'train_df' and 'test_df' DataFrames ready\n",
    "# And 'scaler' is your MinMaxScaler fitted on the training data's 'Open' prices\n",
    "\n",
    "# Concatenate the last 60 days of training data with the test data\n",
    "last_60_days = train_df['Open'][-60:].values\n",
    "test_data = test_df['Open'].values\n",
    "full_test_data = np.concatenate((last_60_days, test_data))\n",
    "\n",
    "# Scale the data\n",
    "full_test_data_scaled = scaler.transform(full_test_data.reshape(-1, 1))\n",
    "\n",
    "# Create sequences of 60 days for each test data point\n",
    "X_test = []\n",
    "for i in range(60, len(full_test_data_scaled)):\n",
    "    X_test.append(full_test_data_scaled[i-60:i, 0])\n",
    "\n",
    "X_test = np.array(X_test)\n",
    "X_test = np.reshape(X_test, (X_test.shape[0], X_test.shape[1], 1))  # Reshaping for the LSTM model\n"
   ]
  },
  {
   "cell_type": "code",
   "execution_count": 33,
   "metadata": {
    "scrolled": true
   },
   "outputs": [
    {
     "name": "stdout",
     "output_type": "stream",
     "text": [
      "1/1 [==============================] - 1s 515ms/step\n"
     ]
    }
   ],
   "source": [
    "predicted_stock_price = regressor.predict(X_test)\n",
    "predicted_stock_price = scaler.inverse_transform(predicted_stock_price)  # Inverse scaling to get actual values\n"
   ]
  },
  {
   "cell_type": "markdown",
   "metadata": {
    "id": "iFTNs3YHk6FQ"
   },
   "source": [
    "### Visualising the results"
   ]
  },
  {
   "cell_type": "code",
   "execution_count": 35,
   "metadata": {
    "executionInfo": {
     "elapsed": 3,
     "status": "ok",
     "timestamp": 1676414788111,
     "user": {
      "displayName": "jayesh soni",
      "userId": "15631968598906199091"
     },
     "user_tz": 300
    },
    "id": "8OUI8U49k9tH"
   },
   "outputs": [
    {
     "data": {
      "image/png": "[encoded data removed]",
      "text/plain": [
       "<Figure size 1000x600 with 1 Axes>"
      ]
     },
     "metadata": {},
     "output_type": "display_data"
    }
   ],
   "source": [
    "plt.figure(figsize=(10, 6))\n",
    "plt.plot(test_df['Open'].values, color='red', label='Real Google Stock Price')\n",
    "plt.plot(predicted_stock_price, color='blue', label='Predicted Google Stock Price')\n",
    "plt.title('Google Stock Price Prediction for 2017')\n",
    "plt.xlabel('Time')\n",
    "plt.ylabel('Google Stock Price')\n",
    "plt.legend()\n",
    "plt.show()\n"
   ]
  },
  {
   "cell_type": "code",
   "execution_count": null,
   "metadata": {},
   "outputs": [],
   "source": []
  }
 ],
 "metadata": {
  "colab": {
   "provenance": []
  },
  "kernelspec": {
   "display_name": "Python 3 (ipykernel)",
   "language": "python",
   "name": "python3"
  },
  "language_info": {
   "codemirror_mode": {
    "name": "ipython",
    "version": 3
   },
   "file_extension": ".py",
   "mimetype": "text/x-python",
   "name": "python",
   "nbconvert_exporter": "python",
   "pygments_lexer": "ipython3",
   "version": "3.11.4"
  }
 },
 "nbformat": 4,
 "nbformat_minor": 1
}
